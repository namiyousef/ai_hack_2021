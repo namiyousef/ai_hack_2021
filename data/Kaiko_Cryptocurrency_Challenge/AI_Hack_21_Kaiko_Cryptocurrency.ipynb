{
 "cells": [
  {
   "cell_type": "markdown",
   "metadata": {},
   "source": [
    "## AI Hack 21\n",
    "## Kaiko Cryptocurrency Challenge\n",
    "\n",
    "\n",
    "**Challenge Description**\n",
    "\n",
    "Attempt to build profitable trading strategies in the cryptocurrency markets using order-book and derivatives\n",
    "data.\n",
    "\n",
    "Using cryptocurrency market data, your ultimate challenge is to look for stylized facts or predictive models for\n",
    "cryptocurrency prices. Anything interesting you can find about the data is welcome and you can also mix it\n",
    "with other sources of data available (Mining hashrate, Google trends, Reddit, etc.) if you would like, though we\n",
    "recommend starting simple.\n",
    "\n",
    "**Data**\n",
    "\n",
    "\n",
    "The dataset contains one/two months of minute data from popular cryptocurrency pairs traded on major\n",
    "exchange places. Two types of financial instruments are present in the dataset:\n",
    "\n",
    "[1]. Spot – they represent spot trading, for example for BTC/USD this represents traders exchanging bitcoin\n",
    "and dollars.\n",
    "\n",
    "[2]. Derivatives –  – two types of futures are given: perpetual futures [Ref 1] and traditional futures with a maturity, in order to understand the maturities, you will need to parse the instrument name to get the date. For\n",
    "example, \"ethusd200925” is a futures contract on ETH/USD expiring on 2020-09-25. Typically, futures\n",
    "contracts are more liquid than spot markets and come with lower fees which is why they are interesting\n",
    "for trading.\n",
    "\n",
    "\n",
    "For each instrument (a pair/contract + the exchange on which it is traded), various data types [Ref 2] can be found:\n",
    "    - OHLCV: Open, High, Low, Close, Volume and trade counts. For more information on how OHLCs are calculated, see https://en.wikipedia.org/wiki/Candlestick_chart\n",
    "    - LOB: Limit Order Books, these contain snapshots of the limit order books\n",
    "    - Aggregated Exchange Rates: calculated as volume-weighted averages of the prices each minute across major exchanges. \n",
    "\n",
    "**This is the price reference to use if you would like to build a trading strategy.**\n",
    "\n",
    "Extensive documentation can be found on our website at https://docs.kaiko.com/ and a summary of relevant\n",
    "links at https://www.kaiko.com/pages/getting-started-with-kaiko."
   ]
  },
  {
   "cell_type": "code",
   "execution_count": null,
   "metadata": {},
   "outputs": [],
   "source": []
  },
  {
   "cell_type": "code",
   "execution_count": null,
   "metadata": {},
   "outputs": [],
   "source": []
  },
  {
   "cell_type": "markdown",
   "metadata": {},
   "source": [
    "**Sample Questions**\n",
    "\n",
    "• Using orderbook imbalances at various depths to predict price returns\n",
    "\n",
    "• Analyzing statistical anomalies (e.g. abnormal returns on weekends, nights, etc.)\n",
    "\n",
    "• Using Google Trends with specific key words to predict prices\n",
    "\n",
    "• Explore arbitrage opportunities [Ref 3]\n",
    "\n",
    "• Perform lead-lag analysis between futures and spot markets\n",
    "\n",
    "\n",
    "Ultimately, you can try to build trading strategies using the anomalies / predictions you built although this is\n",
    "not a requirement. If you do so, try to think a little about what benchmark you use to evaluate your strategy\n",
    "(you can start with risk-adjusted returns, and compare to simply holding BTC as a start).\n",
    "\n",
    "**References**\n",
    "\n",
    "[Ref 1] For a description of perpetual futures, see https://www.bitmex.com/app/perpetualContractsGuide\n",
    "\n",
    "[Ref 2] For more information about our data types: https://www.kaiko.com/pages/cryptocurrency-data-types\n",
    "\n",
    "[Ref 3] https://papers.ssrn.com/sol3/papers.cfm?abstract_id=3171204"
   ]
  },
  {
   "cell_type": "markdown",
   "metadata": {},
   "source": [
    "## Terms and Conditions\n",
    "\n",
    "**By downloading the data, you agree to only use the data for the scope of the February 2021 AI Hack 21 hosted by Imperial College Data Science Society (ICDSS) and abide by our terms and conditions available on Kaiko’s website.**"
   ]
  },
  {
   "cell_type": "markdown",
   "metadata": {},
   "source": [
    "**Disclaimer**\n",
    "\n",
    "This publication is intended for information only and is not a recommendation to engage in investment activities. This publication is provided “as is” without representation or warranty of any kind. Whilst\n",
    "all reasonable care has been taken to assure the accuracy of the content, Kaiko does not guarantee its completeness. Kaiko will not be held liable for any loss or damage of any nature ensuing for using,\n",
    "acting on information provided. No information set out or referred to in this publication shall form the basis of any."
   ]
  },
  {
   "cell_type": "code",
   "execution_count": null,
   "metadata": {},
   "outputs": [],
   "source": []
  }
 ],
 "metadata": {
  "kernelspec": {
   "display_name": "Python 3",
   "language": "python",
   "name": "python3"
  },
  "language_info": {
   "codemirror_mode": {
    "name": "ipython",
    "version": 3
   },
   "file_extension": ".py",
   "mimetype": "text/x-python",
   "name": "python",
   "nbconvert_exporter": "python",
   "pygments_lexer": "ipython3",
   "version": "3.7.3"
  }
 },
 "nbformat": 4,
 "nbformat_minor": 2
}
