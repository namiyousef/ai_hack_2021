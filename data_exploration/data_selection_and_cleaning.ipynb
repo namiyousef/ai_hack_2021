{
 "cells": [
  {
   "cell_type": "markdown",
   "id": "liberal-destination",
   "metadata": {},
   "source": [
    "# data_selection_and_cleaning\n",
    "\n",
    "This notebook deals with selecting features to use for estimating the NOx emissions, and visualising them / cleaning them if necessary."
   ]
  },
  {
   "cell_type": "code",
   "execution_count": 29,
   "id": "reliable-video",
   "metadata": {},
   "outputs": [],
   "source": [
    "### set path to include custom functions\n",
    "import sys\n",
    "sys.path.insert(0, '../PythonScripts/')\n",
    "\n",
    "### libraries\n",
    "\n",
    "# plotting\n",
    "import matplotlib.pyplot as plt\n",
    "import seaborn as sns\n",
    "\n",
    "# data manipulation\n",
    "import pandas as pd\n",
    "import numpy as np\n",
    "\n",
    "# stats\n",
    "from scipy.stats import kurtosis, skew\n",
    "\n",
    "# custom functions\n",
    "from preprocessing import scale_data\n"
   ]
  },
  {
   "cell_type": "code",
   "execution_count": 3,
   "id": "comic-springer",
   "metadata": {},
   "outputs": [
    {
     "data": {
      "text/html": [
       "<div>\n",
       "<style scoped>\n",
       "    .dataframe tbody tr th:only-of-type {\n",
       "        vertical-align: middle;\n",
       "    }\n",
       "\n",
       "    .dataframe tbody tr th {\n",
       "        vertical-align: top;\n",
       "    }\n",
       "\n",
       "    .dataframe thead th {\n",
       "        text-align: right;\n",
       "    }\n",
       "</style>\n",
       "<table border=\"1\" class=\"dataframe\">\n",
       "  <thead>\n",
       "    <tr style=\"text-align: right;\">\n",
       "      <th></th>\n",
       "      <th>TOWN</th>\n",
       "      <th>TOWNNO</th>\n",
       "      <th>TRACT</th>\n",
       "      <th>LON</th>\n",
       "      <th>LAT</th>\n",
       "      <th>MEDV</th>\n",
       "      <th>CMEDV</th>\n",
       "      <th>CRIM</th>\n",
       "      <th>ZN</th>\n",
       "      <th>INDUS</th>\n",
       "      <th>CHAS</th>\n",
       "      <th>NOX</th>\n",
       "      <th>RM</th>\n",
       "      <th>AGE</th>\n",
       "      <th>DIS</th>\n",
       "      <th>RAD</th>\n",
       "      <th>TAX</th>\n",
       "      <th>PTRATIO</th>\n",
       "      <th>B</th>\n",
       "      <th>LSTAT</th>\n",
       "    </tr>\n",
       "  </thead>\n",
       "  <tbody>\n",
       "    <tr>\n",
       "      <th>0</th>\n",
       "      <td>Nahant</td>\n",
       "      <td>0</td>\n",
       "      <td>2011</td>\n",
       "      <td>-70.955</td>\n",
       "      <td>42.2550</td>\n",
       "      <td>24.0</td>\n",
       "      <td>24.0</td>\n",
       "      <td>0.00632</td>\n",
       "      <td>18.0</td>\n",
       "      <td>2.31</td>\n",
       "      <td>0</td>\n",
       "      <td>0.538</td>\n",
       "      <td>6.575</td>\n",
       "      <td>65.2</td>\n",
       "      <td>4.0900</td>\n",
       "      <td>1</td>\n",
       "      <td>296</td>\n",
       "      <td>15.3</td>\n",
       "      <td>396.90</td>\n",
       "      <td>4.98</td>\n",
       "    </tr>\n",
       "    <tr>\n",
       "      <th>1</th>\n",
       "      <td>Swampscott</td>\n",
       "      <td>1</td>\n",
       "      <td>2021</td>\n",
       "      <td>-70.950</td>\n",
       "      <td>42.2875</td>\n",
       "      <td>21.6</td>\n",
       "      <td>21.6</td>\n",
       "      <td>0.02731</td>\n",
       "      <td>0.0</td>\n",
       "      <td>7.07</td>\n",
       "      <td>0</td>\n",
       "      <td>0.469</td>\n",
       "      <td>6.421</td>\n",
       "      <td>78.9</td>\n",
       "      <td>4.9671</td>\n",
       "      <td>2</td>\n",
       "      <td>242</td>\n",
       "      <td>17.8</td>\n",
       "      <td>396.90</td>\n",
       "      <td>9.14</td>\n",
       "    </tr>\n",
       "    <tr>\n",
       "      <th>2</th>\n",
       "      <td>Swampscott</td>\n",
       "      <td>1</td>\n",
       "      <td>2022</td>\n",
       "      <td>-70.936</td>\n",
       "      <td>42.2830</td>\n",
       "      <td>34.7</td>\n",
       "      <td>34.7</td>\n",
       "      <td>0.02729</td>\n",
       "      <td>0.0</td>\n",
       "      <td>7.07</td>\n",
       "      <td>0</td>\n",
       "      <td>0.469</td>\n",
       "      <td>7.185</td>\n",
       "      <td>61.1</td>\n",
       "      <td>4.9671</td>\n",
       "      <td>2</td>\n",
       "      <td>242</td>\n",
       "      <td>17.8</td>\n",
       "      <td>392.83</td>\n",
       "      <td>4.03</td>\n",
       "    </tr>\n",
       "    <tr>\n",
       "      <th>3</th>\n",
       "      <td>Marblehead</td>\n",
       "      <td>2</td>\n",
       "      <td>2031</td>\n",
       "      <td>-70.928</td>\n",
       "      <td>42.2930</td>\n",
       "      <td>33.4</td>\n",
       "      <td>33.4</td>\n",
       "      <td>0.03237</td>\n",
       "      <td>0.0</td>\n",
       "      <td>2.18</td>\n",
       "      <td>0</td>\n",
       "      <td>0.458</td>\n",
       "      <td>6.998</td>\n",
       "      <td>45.8</td>\n",
       "      <td>6.0622</td>\n",
       "      <td>3</td>\n",
       "      <td>222</td>\n",
       "      <td>18.7</td>\n",
       "      <td>394.63</td>\n",
       "      <td>2.94</td>\n",
       "    </tr>\n",
       "    <tr>\n",
       "      <th>4</th>\n",
       "      <td>Marblehead</td>\n",
       "      <td>2</td>\n",
       "      <td>2032</td>\n",
       "      <td>-70.922</td>\n",
       "      <td>42.2980</td>\n",
       "      <td>36.2</td>\n",
       "      <td>36.2</td>\n",
       "      <td>0.06905</td>\n",
       "      <td>0.0</td>\n",
       "      <td>2.18</td>\n",
       "      <td>0</td>\n",
       "      <td>0.458</td>\n",
       "      <td>7.147</td>\n",
       "      <td>54.2</td>\n",
       "      <td>6.0622</td>\n",
       "      <td>3</td>\n",
       "      <td>222</td>\n",
       "      <td>18.7</td>\n",
       "      <td>396.90</td>\n",
       "      <td>5.33</td>\n",
       "    </tr>\n",
       "  </tbody>\n",
       "</table>\n",
       "</div>"
      ],
      "text/plain": [
       "         TOWN  TOWNNO  TRACT     LON      LAT  MEDV  CMEDV     CRIM    ZN  \\\n",
       "0      Nahant       0   2011 -70.955  42.2550  24.0   24.0  0.00632  18.0   \n",
       "1  Swampscott       1   2021 -70.950  42.2875  21.6   21.6  0.02731   0.0   \n",
       "2  Swampscott       1   2022 -70.936  42.2830  34.7   34.7  0.02729   0.0   \n",
       "3  Marblehead       2   2031 -70.928  42.2930  33.4   33.4  0.03237   0.0   \n",
       "4  Marblehead       2   2032 -70.922  42.2980  36.2   36.2  0.06905   0.0   \n",
       "\n",
       "   INDUS  CHAS    NOX     RM   AGE     DIS  RAD  TAX  PTRATIO       B  LSTAT  \n",
       "0   2.31     0  0.538  6.575  65.2  4.0900    1  296     15.3  396.90   4.98  \n",
       "1   7.07     0  0.469  6.421  78.9  4.9671    2  242     17.8  396.90   9.14  \n",
       "2   7.07     0  0.469  7.185  61.1  4.9671    2  242     17.8  392.83   4.03  \n",
       "3   2.18     0  0.458  6.998  45.8  6.0622    3  222     18.7  394.63   2.94  \n",
       "4   2.18     0  0.458  7.147  54.2  6.0622    3  222     18.7  396.90   5.33  "
      ]
     },
     "execution_count": 3,
     "metadata": {},
     "output_type": "execute_result"
    }
   ],
   "source": [
    "path = '../data/Boston_Housing_Market_Challenge/boston_corrected.csv'\n",
    "\n",
    "df = pd.read_csv(path)\n",
    "\n",
    "df.head()"
   ]
  },
  {
   "cell_type": "code",
   "execution_count": 49,
   "id": "provincial-factor",
   "metadata": {},
   "outputs": [
    {
     "data": {
      "text/plain": [
       "array(['Nahant', 'Swampscott', 'Swampscott', 'Marblehead', 'Marblehead',\n",
       "       'Marblehead', 'Salem', 'Salem', 'Salem', 'Salem', 'Salem', 'Salem',\n",
       "       'Salem', 'Lynn', 'Lynn', 'Lynn', 'Lynn', 'Lynn', 'Lynn', 'Lynn',\n",
       "       'Lynn', 'Lynn', 'Lynn', 'Lynn', 'Lynn', 'Lynn', 'Lynn', 'Lynn',\n",
       "       'Lynn', 'Lynn', 'Lynn', 'Lynn', 'Lynn', 'Lynn', 'Lynn', 'Sargus',\n",
       "       'Sargus', 'Sargus', 'Sargus', 'Lynnfield', 'Lynnfield', 'Peabody',\n",
       "       'Peabody', 'Peabody', 'Peabody', 'Peabody', 'Peabody', 'Peabody',\n",
       "       'Peabody', 'Peabody', 'Danvers', 'Danvers', 'Danvers', 'Danvers',\n",
       "       'Middleton', 'Topsfield', 'Hamilton', 'Wenham', 'Beverly',\n",
       "       'Beverly', 'Beverly', 'Beverly', 'Beverly', 'Beverly',\n",
       "       'Manchester', 'North Reading', 'North Reading', 'Wilmington',\n",
       "       'Wilmington', 'Wilmington', 'Burlington', 'Burlington',\n",
       "       'Burlington', 'Burlington', 'Woburn', 'Woburn', 'Woburn', 'Woburn',\n",
       "       'Woburn', 'Woburn', 'Reading', 'Reading', 'Reading', 'Reading',\n",
       "       'Wakefield', 'Wakefield', 'Wakefield', 'Wakefield', 'Melrose',\n",
       "       'Melrose', 'Melrose', 'Melrose', 'Stoneham', 'Stoneham',\n",
       "       'Stoneham', 'Winchester', 'Winchester', 'Winchester', 'Winchester',\n",
       "       'Winchester', 'Medford', 'Medford', 'Medford', 'Medford',\n",
       "       'Medford', 'Medford', 'Medford', 'Medford', 'Medford', 'Medford',\n",
       "       'Medford', 'Malden', 'Malden', 'Malden', 'Malden', 'Malden',\n",
       "       'Malden', 'Malden', 'Malden', 'Malden', 'Everett', 'Everett',\n",
       "       'Everett', 'Everett', 'Everett', 'Everett', 'Everett',\n",
       "       'Somerville', 'Somerville', 'Somerville', 'Somerville',\n",
       "       'Somerville', 'Somerville', 'Somerville', 'Somerville',\n",
       "       'Somerville', 'Somerville', 'Somerville', 'Somerville',\n",
       "       'Somerville', 'Somerville', 'Somerville', 'Cambridge', 'Cambridge',\n",
       "       'Cambridge', 'Cambridge', 'Cambridge', 'Cambridge', 'Cambridge',\n",
       "       'Cambridge', 'Cambridge', 'Cambridge', 'Cambridge', 'Cambridge',\n",
       "       'Cambridge', 'Cambridge', 'Cambridge', 'Cambridge', 'Cambridge',\n",
       "       'Cambridge', 'Cambridge', 'Cambridge', 'Cambridge', 'Cambridge',\n",
       "       'Cambridge', 'Cambridge', 'Cambridge', 'Cambridge', 'Cambridge',\n",
       "       'Cambridge', 'Cambridge', 'Cambridge', 'Arlington', 'Arlington',\n",
       "       'Arlington', 'Arlington', 'Arlington', 'Arlington', 'Arlington',\n",
       "       'Belmont', 'Belmont', 'Belmont', 'Belmont', 'Belmont', 'Belmont',\n",
       "       'Belmont', 'Belmont', 'Lexington', 'Lexington', 'Lexington',\n",
       "       'Lexington', 'Lexington', 'Lexington', 'Bedford', 'Bedford',\n",
       "       'Lincoln', 'Concord', 'Concord', 'Concord', 'Sudbury', 'Sudbury',\n",
       "       'Wayland', 'Wayland', 'Weston', 'Weston', 'Waltham', 'Waltham',\n",
       "       'Waltham', 'Waltham', 'Waltham', 'Waltham', 'Waltham', 'Waltham',\n",
       "       'Waltham', 'Waltham', 'Waltham', 'Watertown', 'Watertown',\n",
       "       'Watertown', 'Watertown', 'Newton', 'Newton', 'Newton', 'Newton',\n",
       "       'Newton', 'Newton', 'Newton', 'Newton', 'Newton', 'Newton',\n",
       "       'Newton', 'Newton', 'Newton', 'Newton', 'Newton', 'Newton',\n",
       "       'Newton', 'Newton', 'Natick', 'Natick', 'Natick', 'Natick',\n",
       "       'Natick', 'Natick', 'Framingham', 'Framingham', 'Framingham',\n",
       "       'Framingham', 'Framingham', 'Framingham', 'Framingham',\n",
       "       'Framingham', 'Framingham', 'Framingham', 'Ashland', 'Ashland',\n",
       "       'Sherborn', 'Brookline', 'Brookline', 'Brookline', 'Brookline',\n",
       "       'Brookline', 'Brookline', 'Brookline', 'Brookline', 'Brookline',\n",
       "       'Brookline', 'Brookline', 'Brookline', 'Dedham', 'Dedham',\n",
       "       'Dedham', 'Dedham', 'Dedham', 'Needham', 'Needham', 'Needham',\n",
       "       'Needham', 'Needham', 'Wellesley', 'Wellesley', 'Wellesley',\n",
       "       'Wellesley', 'Dover', 'Medfield', 'Millis', 'Norfolk', 'Walpole',\n",
       "       'Walpole', 'Walpole', 'Westwood', 'Westwood', 'Westwood',\n",
       "       'Norwood', 'Norwood', 'Norwood', 'Norwood', 'Norwood', 'Sharon',\n",
       "       'Sharon', 'Sharon', 'Canton', 'Canton', 'Canton', 'Milton',\n",
       "       'Milton', 'Milton', 'Milton', 'Quincy', 'Quincy', 'Quincy',\n",
       "       'Quincy', 'Quincy', 'Quincy', 'Quincy', 'Quincy', 'Quincy',\n",
       "       'Quincy', 'Quincy', 'Quincy', 'Braintree', 'Braintree',\n",
       "       'Braintree', 'Braintree', 'Braintree', 'Braintree', 'Braintree',\n",
       "       'Braintree', 'Randolph', 'Randolph', 'Randolph', 'Holbrook',\n",
       "       'Holbrook', 'Weymouth', 'Weymouth', 'Weymouth', 'Weymouth',\n",
       "       'Weymouth', 'Weymouth', 'Weymouth', 'Weymouth', 'Cohasset', 'Hull',\n",
       "       'Hingham', 'Hingham', 'Rockland', 'Rockland', 'Hanover', 'Norwell',\n",
       "       'Scituate', 'Scituate', 'Marshfield', 'Marshfield', 'Duxbury',\n",
       "       'Pembroke', 'Pembroke', 'Boston Allston-Brighton',\n",
       "       'Boston Allston-Brighton', 'Boston Allston-Brighton',\n",
       "       'Boston Allston-Brighton', 'Boston Allston-Brighton',\n",
       "       'Boston Allston-Brighton', 'Boston Allston-Brighton',\n",
       "       'Boston Allston-Brighton', 'Boston Back Bay', 'Boston Back Bay',\n",
       "       'Boston Back Bay', 'Boston Back Bay', 'Boston Back Bay',\n",
       "       'Boston Back Bay', 'Boston Beacon Hill', 'Boston Beacon Hill',\n",
       "       'Boston Beacon Hill', 'Boston North End', 'Boston North End',\n",
       "       'Boston Charlestown', 'Boston Charlestown', 'Boston Charlestown',\n",
       "       'Boston Charlestown', 'Boston Charlestown', 'Boston Charlestown',\n",
       "       'Boston East Boston', 'Boston East Boston', 'Boston East Boston',\n",
       "       'Boston East Boston', 'Boston East Boston', 'Boston East Boston',\n",
       "       'Boston East Boston', 'Boston East Boston', 'Boston East Boston',\n",
       "       'Boston East Boston', 'Boston East Boston', 'Boston East Boston',\n",
       "       'Boston South Boston', 'Boston South Boston',\n",
       "       'Boston South Boston', 'Boston South Boston',\n",
       "       'Boston South Boston', 'Boston South Boston',\n",
       "       'Boston South Boston', 'Boston South Boston',\n",
       "       'Boston South Boston', 'Boston South Boston',\n",
       "       'Boston South Boston', 'Boston South Boston',\n",
       "       'Boston South Boston', 'Boston Downtown', 'Boston Downtown',\n",
       "       'Boston Downtown', 'Boston Downtown', 'Boston Downtown',\n",
       "       'Boston Downtown', 'Boston Downtown', 'Boston Downtown',\n",
       "       'Boston Roxbury', 'Boston Roxbury', 'Boston Roxbury',\n",
       "       'Boston Roxbury', 'Boston Roxbury', 'Boston Roxbury',\n",
       "       'Boston Roxbury', 'Boston Roxbury', 'Boston Roxbury',\n",
       "       'Boston Roxbury', 'Boston Roxbury', 'Boston Roxbury',\n",
       "       'Boston Roxbury', 'Boston Roxbury', 'Boston Roxbury',\n",
       "       'Boston Roxbury', 'Boston Roxbury', 'Boston Roxbury',\n",
       "       'Boston Roxbury', 'Boston Savin Hill', 'Boston Savin Hill',\n",
       "       'Boston Savin Hill', 'Boston Savin Hill', 'Boston Savin Hill',\n",
       "       'Boston Savin Hill', 'Boston Savin Hill', 'Boston Savin Hill',\n",
       "       'Boston Savin Hill', 'Boston Savin Hill', 'Boston Savin Hill',\n",
       "       'Boston Savin Hill', 'Boston Savin Hill', 'Boston Savin Hill',\n",
       "       'Boston Savin Hill', 'Boston Savin Hill', 'Boston Savin Hill',\n",
       "       'Boston Savin Hill', 'Boston Savin Hill', 'Boston Savin Hill',\n",
       "       'Boston Savin Hill', 'Boston Savin Hill', 'Boston Savin Hill',\n",
       "       'Boston Dorchester', 'Boston Dorchester', 'Boston Dorchester',\n",
       "       'Boston Dorchester', 'Boston Dorchester', 'Boston Dorchester',\n",
       "       'Boston Dorchester', 'Boston Dorchester', 'Boston Dorchester',\n",
       "       'Boston Dorchester', 'Boston Dorchester', 'Boston Mattapan',\n",
       "       'Boston Mattapan', 'Boston Mattapan', 'Boston Mattapan',\n",
       "       'Boston Mattapan', 'Boston Mattapan', 'Boston Forest Hills',\n",
       "       'Boston Forest Hills', 'Boston Forest Hills',\n",
       "       'Boston Forest Hills', 'Boston Forest Hills',\n",
       "       'Boston Forest Hills', 'Boston Forest Hills',\n",
       "       'Boston West Roxbury', 'Boston West Roxbury',\n",
       "       'Boston West Roxbury', 'Boston West Roxbury', 'Boston Hyde Park',\n",
       "       'Boston Hyde Park', 'Boston Hyde Park', 'Boston Hyde Park',\n",
       "       'Chelsea', 'Chelsea', 'Chelsea', 'Chelsea', 'Chelsea', 'Revere',\n",
       "       'Revere', 'Revere', 'Revere', 'Revere', 'Revere', 'Revere',\n",
       "       'Revere', 'Winthrop', 'Winthrop', 'Winthrop', 'Winthrop',\n",
       "       'Winthrop'], dtype=object)"
      ]
     },
     "execution_count": 49,
     "metadata": {},
     "output_type": "execute_result"
    }
   ],
   "source": [
    "df.TOWN.values"
   ]
  },
  {
   "cell_type": "code",
   "execution_count": 6,
   "id": "transsexual-legislature",
   "metadata": {},
   "outputs": [
    {
     "data": {
      "text/plain": [
       "<AxesSubplot:ylabel='TRACT'>"
      ]
     },
     "execution_count": 6,
     "metadata": {},
     "output_type": "execute_result"
    },
    {
     "data": {
      "image/png": "[encoded data removed]",
      "text/plain": [
       "<Figure size 432x288 with 1 Axes>"
      ]
     },
     "metadata": {
      "needs_background": "light"
     },
     "output_type": "display_data"
    }
   ],
   "source": [
    "sns.boxplot(y = 'TRACT', data = df)"
   ]
  },
  {
   "cell_type": "code",
   "execution_count": 8,
   "id": "scenic-steering",
   "metadata": {},
   "outputs": [
    {
     "data": {
      "text/plain": [
       "<AxesSubplot:ylabel='TAX'>"
      ]
     },
     "execution_count": 8,
     "metadata": {},
     "output_type": "execute_result"
    },
    {
     "data": {
      "image/png": "[encoded data removed]",
      "text/plain": [
       "<Figure size 432x288 with 1 Axes>"
      ]
     },
     "metadata": {
      "needs_background": "light"
     },
     "output_type": "display_data"
    }
   ],
   "source": [
    "sns.boxplot(y = 'TAX', data = df)"
   ]
  },
  {
   "cell_type": "code",
   "execution_count": 18,
   "id": "encouraging-block",
   "metadata": {},
   "outputs": [
    {
     "data": {
      "text/plain": [
       "['TOWN',\n",
       " 'TOWNNO',\n",
       " 'LON',\n",
       " 'LAT',\n",
       " 'MEDV',\n",
       " 'CMEDV',\n",
       " 'CRIM',\n",
       " 'ZN',\n",
       " 'INDUS',\n",
       " 'CHAS',\n",
       " 'NOX',\n",
       " 'RM',\n",
       " 'AGE',\n",
       " 'DIS',\n",
       " 'RAD',\n",
       " 'PTRATIO',\n",
       " 'B',\n",
       " 'LSTAT']"
      ]
     },
     "execution_count": 18,
     "metadata": {},
     "output_type": "execute_result"
    }
   ],
   "source": [
    "columns = list(df.columns)\n",
    "columns.remove('TRACT')\n",
    "columns.remove('TAX')"
   ]
  },
  {
   "cell_type": "code",
   "execution_count": 21,
   "id": "female-philip",
   "metadata": {},
   "outputs": [
    {
     "data": {
      "text/plain": [
       "(array([ 0,  1,  2,  3,  4,  5,  6,  7,  8,  9, 10, 11, 12, 13, 14, 15, 16]),\n",
       " [Text(0, 0, 'TOWNNO'),\n",
       "  Text(1, 0, 'LON'),\n",
       "  Text(2, 0, 'LAT'),\n",
       "  Text(3, 0, 'MEDV'),\n",
       "  Text(4, 0, 'CMEDV'),\n",
       "  Text(5, 0, 'CRIM'),\n",
       "  Text(6, 0, 'ZN'),\n",
       "  Text(7, 0, 'INDUS'),\n",
       "  Text(8, 0, 'CHAS'),\n",
       "  Text(9, 0, 'NOX'),\n",
       "  Text(10, 0, 'RM'),\n",
       "  Text(11, 0, 'AGE'),\n",
       "  Text(12, 0, 'DIS'),\n",
       "  Text(13, 0, 'RAD'),\n",
       "  Text(14, 0, 'PTRATIO'),\n",
       "  Text(15, 0, 'B'),\n",
       "  Text(16, 0, 'LSTAT')])"
      ]
     },
     "execution_count": 21,
     "metadata": {},
     "output_type": "execute_result"
    },
    {
     "data": {
      "image/png": "[encoded data removed]",
      "text/plain": [
       "<Figure size 432x288 with 1 Axes>"
      ]
     },
     "metadata": {
      "needs_background": "light"
     },
     "output_type": "display_data"
    }
   ],
   "source": [
    "sns.boxplot(data = df[columns])\n",
    "plt.xticks(rotation = 90)"
   ]
  },
  {
   "cell_type": "markdown",
   "id": "subjective-valuation",
   "metadata": {},
   "source": [
    "Comments: there are many outliers on the data when it is not scaled. Scaling parameters need to be added. But before scaling, some de-skewers will be applied."
   ]
  },
  {
   "cell_type": "code",
   "execution_count": 40,
   "id": "usual-repository",
   "metadata": {},
   "outputs": [
    {
     "name": "stdout",
     "output_type": "stream",
     "text": [
      "LON 1.0857233436592795\n",
      "MEDV 1.4686287722747462\n",
      "CMEDV 1.4900025601607387\n",
      "CRIM 36.75278626142281\n",
      "ZN 3.9799487739913717\n",
      "CHAS 9.531452835911432\n",
      "RM 1.8610269725310244\n",
      "B 7.143769291496051\n"
     ]
    }
   ],
   "source": [
    "kurts = []\n",
    "skews = []\n",
    "for col in df.columns:\n",
    "    if df[col].dtype != 'object':\n",
    "        values = np.asarray(df[col])\n",
    "        if (kurt:= kurtosis(values)) > 1:\n",
    "            print(col, kurt)\n",
    "        kurts.append(kurtosis(values))\n",
    "        skews.append(skew(values))\n"
   ]
  },
  {
   "cell_type": "code",
   "execution_count": 46,
   "id": "parental-temple",
   "metadata": {},
   "outputs": [
    {
     "data": {
      "text/plain": [
       "[30,\n",
       " 23,\n",
       " 22,\n",
       " 19,\n",
       " 18,\n",
       " 15,\n",
       " 13,\n",
       " 12,\n",
       " 12,\n",
       " 12,\n",
       " 11,\n",
       " 11,\n",
       " 11,\n",
       " 10,\n",
       " 9,\n",
       " 9,\n",
       " 8,\n",
       " 8,\n",
       " 8,\n",
       " 8,\n",
       " 8,\n",
       " 8,\n",
       " 7,\n",
       " 7,\n",
       " 7,\n",
       " 7,\n",
       " 6,\n",
       " 6,\n",
       " 6,\n",
       " 6,\n",
       " 6,\n",
       " 6,\n",
       " 6,\n",
       " 5,\n",
       " 5,\n",
       " 5,\n",
       " 5,\n",
       " 5,\n",
       " 5,\n",
       " 4,\n",
       " 4,\n",
       " 4,\n",
       " 4,\n",
       " 4,\n",
       " 4,\n",
       " 4,\n",
       " 4,\n",
       " 4,\n",
       " 4,\n",
       " 4,\n",
       " 3,\n",
       " 3,\n",
       " 3,\n",
       " 3,\n",
       " 3,\n",
       " 3,\n",
       " 3,\n",
       " 3,\n",
       " 3,\n",
       " 3,\n",
       " 2,\n",
       " 2,\n",
       " 2,\n",
       " 2,\n",
       " 2,\n",
       " 2,\n",
       " 2,\n",
       " 2,\n",
       " 2,\n",
       " 2,\n",
       " 2,\n",
       " 2,\n",
       " 2,\n",
       " 2,\n",
       " 2,\n",
       " 1,\n",
       " 1,\n",
       " 1,\n",
       " 1,\n",
       " 1,\n",
       " 1,\n",
       " 1,\n",
       " 1,\n",
       " 1,\n",
       " 1,\n",
       " 1,\n",
       " 1,\n",
       " 1,\n",
       " 1,\n",
       " 1,\n",
       " 1,\n",
       " 1]"
      ]
     },
     "execution_count": 46,
     "metadata": {},
     "output_type": "execute_result"
    }
   ],
   "source": [
    "list(df.TOWN.value_counts())"
   ]
  },
  {
   "cell_type": "code",
   "execution_count": 48,
   "id": "competitive-mongolia",
   "metadata": {},
   "outputs": [
    {
     "name": "stdout",
     "output_type": "stream",
     "text": [
      "{'error_message': 'You must use an API key to authenticate each request to Google Maps Platform APIs. For additional information, please refer to http://g.co/dev/maps-no-account', 'results': [], 'status': 'REQUEST_DENIED'}\n"
     ]
    },
    {
     "ename": "IndexError",
     "evalue": "list index out of range",
     "output_type": "error",
     "traceback": [
      "\u001b[0;31m---------------------------------------------------------------------------\u001b[0m",
      "\u001b[0;31mIndexError\u001b[0m                                Traceback (most recent call last)",
      "\u001b[0;32m<ipython-input-48-85361d089c67>\u001b[0m in \u001b[0;36m<module>\u001b[0;34m\u001b[0m\n\u001b[1;32m      5\u001b[0m \u001b[0mresp_json_payload\u001b[0m \u001b[0;34m=\u001b[0m \u001b[0mresponse\u001b[0m\u001b[0;34m.\u001b[0m\u001b[0mjson\u001b[0m\u001b[0;34m(\u001b[0m\u001b[0;34m)\u001b[0m\u001b[0;34m\u001b[0m\u001b[0;34m\u001b[0m\u001b[0m\n\u001b[1;32m      6\u001b[0m \u001b[0mprint\u001b[0m\u001b[0;34m(\u001b[0m\u001b[0mresp_json_payload\u001b[0m\u001b[0;34m)\u001b[0m\u001b[0;34m\u001b[0m\u001b[0;34m\u001b[0m\u001b[0m\n\u001b[0;32m----> 7\u001b[0;31m \u001b[0mprint\u001b[0m\u001b[0;34m(\u001b[0m\u001b[0mresp_json_payload\u001b[0m\u001b[0;34m[\u001b[0m\u001b[0;34m'results'\u001b[0m\u001b[0;34m]\u001b[0m\u001b[0;34m[\u001b[0m\u001b[0;36m0\u001b[0m\u001b[0;34m]\u001b[0m\u001b[0;34m[\u001b[0m\u001b[0;34m'geometry'\u001b[0m\u001b[0;34m]\u001b[0m\u001b[0;34m[\u001b[0m\u001b[0;34m'location'\u001b[0m\u001b[0;34m]\u001b[0m\u001b[0;34m)\u001b[0m\u001b[0;34m\u001b[0m\u001b[0;34m\u001b[0m\u001b[0m\n\u001b[0m",
      "\u001b[0;31mIndexError\u001b[0m: list index out of range"
     ]
    }
   ],
   "source": []
  },
  {
   "cell_type": "markdown",
   "id": "proprietary-opening",
   "metadata": {},
   "source": [
    "# Conclusions and Thoughts\n",
    "\n",
    "Age: seems to be a value that we'd be interested in? Older houses may have wood fired chimneys --> more NOx\n",
    "\n",
    "LON/LAT or TOWN: this gives information about how close parameters are. They might also provide noise to the dataset though. Leaning towards LON/LAT since they are already continuous!\n",
    "\n",
    "CMEDV: house pirce\n",
    "\n",
    "DIS: distance from employment centres"
   ]
  },
  {
   "cell_type": "code",
   "execution_count": null,
   "id": "french-mount",
   "metadata": {},
   "outputs": [],
   "source": []
  }
 ],
 "metadata": {
  "kernelspec": {
   "display_name": "ai_hack_2021",
   "language": "python",
   "name": "ai_hack_2021"
  },
  "language_info": {
   "codemirror_mode": {
    "name": "ipython",
    "version": 3
   },
   "file_extension": ".py",
   "mimetype": "text/x-python",
   "name": "python",
   "nbconvert_exporter": "python",
   "pygments_lexer": "ipython3",
   "version": "3.8.5"
  }
 },
 "nbformat": 4,
 "nbformat_minor": 5
}
