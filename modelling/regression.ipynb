{
 "cells": [
  {
   "cell_type": "code",
   "execution_count": 174,
   "id": "announced-zambia",
   "metadata": {},
   "outputs": [],
   "source": [
    "# libraries \n",
    "\n",
    "import pandas as pd\n",
    "import numpy as np\n",
    "import seaborn as sns\n",
    "import matplotlib.pyplot as plt\n",
    "from sklearn.preprocessing import RobustScaler, MinMaxScaler, StandardScaler, PowerTransformer\n",
    "\n",
    "from scipy.stats import kurtosis, skew"
   ]
  },
  {
   "cell_type": "code",
   "execution_count": 175,
   "id": "fallen-lindsay",
   "metadata": {},
   "outputs": [
    {
     "data": {
      "text/html": [
       "<div>\n",
       "<style scoped>\n",
       "    .dataframe tbody tr th:only-of-type {\n",
       "        vertical-align: middle;\n",
       "    }\n",
       "\n",
       "    .dataframe tbody tr th {\n",
       "        vertical-align: top;\n",
       "    }\n",
       "\n",
       "    .dataframe thead th {\n",
       "        text-align: right;\n",
       "    }\n",
       "</style>\n",
       "<table border=\"1\" class=\"dataframe\">\n",
       "  <thead>\n",
       "    <tr style=\"text-align: right;\">\n",
       "      <th></th>\n",
       "      <th>TOWN</th>\n",
       "      <th>TOWNNO</th>\n",
       "      <th>TRACT</th>\n",
       "      <th>LON</th>\n",
       "      <th>LAT</th>\n",
       "      <th>MEDV</th>\n",
       "      <th>CMEDV</th>\n",
       "      <th>CRIM</th>\n",
       "      <th>ZN</th>\n",
       "      <th>INDUS</th>\n",
       "      <th>CHAS</th>\n",
       "      <th>NOX</th>\n",
       "      <th>RM</th>\n",
       "      <th>AGE</th>\n",
       "      <th>DIS</th>\n",
       "      <th>RAD</th>\n",
       "      <th>TAX</th>\n",
       "      <th>PTRATIO</th>\n",
       "      <th>B</th>\n",
       "      <th>LSTAT</th>\n",
       "    </tr>\n",
       "  </thead>\n",
       "  <tbody>\n",
       "    <tr>\n",
       "      <th>178</th>\n",
       "      <td>Arlington</td>\n",
       "      <td>29</td>\n",
       "      <td>3567</td>\n",
       "      <td>-77.098798</td>\n",
       "      <td>38.872313</td>\n",
       "      <td>29.9</td>\n",
       "      <td>29.9</td>\n",
       "      <td>0.06642</td>\n",
       "      <td>0.0</td>\n",
       "      <td>4.05</td>\n",
       "      <td>0</td>\n",
       "      <td>0.51</td>\n",
       "      <td>6.860</td>\n",
       "      <td>74.4</td>\n",
       "      <td>2.9153</td>\n",
       "      <td>5</td>\n",
       "      <td>296</td>\n",
       "      <td>16.6</td>\n",
       "      <td>391.27</td>\n",
       "      <td>6.92</td>\n",
       "    </tr>\n",
       "    <tr>\n",
       "      <th>177</th>\n",
       "      <td>Arlington</td>\n",
       "      <td>29</td>\n",
       "      <td>3566</td>\n",
       "      <td>-77.097298</td>\n",
       "      <td>38.875713</td>\n",
       "      <td>24.6</td>\n",
       "      <td>24.6</td>\n",
       "      <td>0.05425</td>\n",
       "      <td>0.0</td>\n",
       "      <td>4.05</td>\n",
       "      <td>0</td>\n",
       "      <td>0.51</td>\n",
       "      <td>6.315</td>\n",
       "      <td>73.4</td>\n",
       "      <td>3.3175</td>\n",
       "      <td>5</td>\n",
       "      <td>296</td>\n",
       "      <td>16.6</td>\n",
       "      <td>395.60</td>\n",
       "      <td>6.29</td>\n",
       "    </tr>\n",
       "    <tr>\n",
       "      <th>176</th>\n",
       "      <td>Arlington</td>\n",
       "      <td>29</td>\n",
       "      <td>3565</td>\n",
       "      <td>-77.095098</td>\n",
       "      <td>38.878213</td>\n",
       "      <td>23.2</td>\n",
       "      <td>23.2</td>\n",
       "      <td>0.07022</td>\n",
       "      <td>0.0</td>\n",
       "      <td>4.05</td>\n",
       "      <td>0</td>\n",
       "      <td>0.51</td>\n",
       "      <td>6.020</td>\n",
       "      <td>47.2</td>\n",
       "      <td>3.5549</td>\n",
       "      <td>5</td>\n",
       "      <td>296</td>\n",
       "      <td>16.6</td>\n",
       "      <td>393.23</td>\n",
       "      <td>10.11</td>\n",
       "    </tr>\n",
       "    <tr>\n",
       "      <th>175</th>\n",
       "      <td>Arlington</td>\n",
       "      <td>29</td>\n",
       "      <td>3564</td>\n",
       "      <td>-77.105798</td>\n",
       "      <td>38.888213</td>\n",
       "      <td>29.4</td>\n",
       "      <td>29.4</td>\n",
       "      <td>0.06664</td>\n",
       "      <td>0.0</td>\n",
       "      <td>4.05</td>\n",
       "      <td>0</td>\n",
       "      <td>0.51</td>\n",
       "      <td>6.546</td>\n",
       "      <td>33.1</td>\n",
       "      <td>3.1323</td>\n",
       "      <td>5</td>\n",
       "      <td>296</td>\n",
       "      <td>16.6</td>\n",
       "      <td>390.96</td>\n",
       "      <td>5.33</td>\n",
       "    </tr>\n",
       "    <tr>\n",
       "      <th>174</th>\n",
       "      <td>Arlington</td>\n",
       "      <td>29</td>\n",
       "      <td>3563</td>\n",
       "      <td>-77.124298</td>\n",
       "      <td>38.885713</td>\n",
       "      <td>22.6</td>\n",
       "      <td>22.6</td>\n",
       "      <td>0.08447</td>\n",
       "      <td>0.0</td>\n",
       "      <td>4.05</td>\n",
       "      <td>0</td>\n",
       "      <td>0.51</td>\n",
       "      <td>5.859</td>\n",
       "      <td>68.7</td>\n",
       "      <td>2.7019</td>\n",
       "      <td>5</td>\n",
       "      <td>296</td>\n",
       "      <td>16.6</td>\n",
       "      <td>393.23</td>\n",
       "      <td>9.64</td>\n",
       "    </tr>\n",
       "  </tbody>\n",
       "</table>\n",
       "</div>"
      ],
      "text/plain": [
       "          TOWN  TOWNNO  TRACT        LON        LAT  MEDV  CMEDV     CRIM  \\\n",
       "178  Arlington      29   3567 -77.098798  38.872313  29.9   29.9  0.06642   \n",
       "177  Arlington      29   3566 -77.097298  38.875713  24.6   24.6  0.05425   \n",
       "176  Arlington      29   3565 -77.095098  38.878213  23.2   23.2  0.07022   \n",
       "175  Arlington      29   3564 -77.105798  38.888213  29.4   29.4  0.06664   \n",
       "174  Arlington      29   3563 -77.124298  38.885713  22.6   22.6  0.08447   \n",
       "\n",
       "      ZN  INDUS  CHAS   NOX     RM   AGE     DIS  RAD  TAX  PTRATIO       B  \\\n",
       "178  0.0   4.05     0  0.51  6.860  74.4  2.9153    5  296     16.6  391.27   \n",
       "177  0.0   4.05     0  0.51  6.315  73.4  3.3175    5  296     16.6  395.60   \n",
       "176  0.0   4.05     0  0.51  6.020  47.2  3.5549    5  296     16.6  393.23   \n",
       "175  0.0   4.05     0  0.51  6.546  33.1  3.1323    5  296     16.6  390.96   \n",
       "174  0.0   4.05     0  0.51  5.859  68.7  2.7019    5  296     16.6  393.23   \n",
       "\n",
       "     LSTAT  \n",
       "178   6.92  \n",
       "177   6.29  \n",
       "176  10.11  \n",
       "175   5.33  \n",
       "174   9.64  "
      ]
     },
     "execution_count": 175,
     "metadata": {},
     "output_type": "execute_result"
    }
   ],
   "source": [
    "path = 'boston_fixed.csv'\n",
    "df = pd.read_csv(path, index_col = 0)\n",
    "df.head()"
   ]
  },
  {
   "cell_type": "code",
   "execution_count": 176,
   "id": "frequent-strategy",
   "metadata": {},
   "outputs": [],
   "source": [
    "X_cols = ['CMEDV', 'CRIM', 'INDUS', 'AGE', 'DIS', 'LSTAT', 'RAD']\n",
    "y_col = ['NOX']"
   ]
  },
  {
   "cell_type": "code",
   "execution_count": 177,
   "id": "accurate-language",
   "metadata": {},
   "outputs": [],
   "source": [
    "X = df[X_cols]\n",
    "y = df[y_col]"
   ]
  },
  {
   "cell_type": "code",
   "execution_count": 178,
   "id": "satisfactory-respect",
   "metadata": {},
   "outputs": [
    {
     "data": {
      "text/html": [
       "<div>\n",
       "<style scoped>\n",
       "    .dataframe tbody tr th:only-of-type {\n",
       "        vertical-align: middle;\n",
       "    }\n",
       "\n",
       "    .dataframe tbody tr th {\n",
       "        vertical-align: top;\n",
       "    }\n",
       "\n",
       "    .dataframe thead th {\n",
       "        text-align: right;\n",
       "    }\n",
       "</style>\n",
       "<table border=\"1\" class=\"dataframe\">\n",
       "  <thead>\n",
       "    <tr style=\"text-align: right;\">\n",
       "      <th></th>\n",
       "      <th>CMEDV</th>\n",
       "      <th>CRIM</th>\n",
       "      <th>INDUS</th>\n",
       "      <th>AGE</th>\n",
       "      <th>DIS</th>\n",
       "      <th>LSTAT</th>\n",
       "      <th>RAD</th>\n",
       "    </tr>\n",
       "  </thead>\n",
       "  <tbody>\n",
       "    <tr>\n",
       "      <th>178</th>\n",
       "      <td>29.9</td>\n",
       "      <td>0.06642</td>\n",
       "      <td>4.05</td>\n",
       "      <td>74.4</td>\n",
       "      <td>2.9153</td>\n",
       "      <td>6.92</td>\n",
       "      <td>5</td>\n",
       "    </tr>\n",
       "    <tr>\n",
       "      <th>177</th>\n",
       "      <td>24.6</td>\n",
       "      <td>0.05425</td>\n",
       "      <td>4.05</td>\n",
       "      <td>73.4</td>\n",
       "      <td>3.3175</td>\n",
       "      <td>6.29</td>\n",
       "      <td>5</td>\n",
       "    </tr>\n",
       "    <tr>\n",
       "      <th>176</th>\n",
       "      <td>23.2</td>\n",
       "      <td>0.07022</td>\n",
       "      <td>4.05</td>\n",
       "      <td>47.2</td>\n",
       "      <td>3.5549</td>\n",
       "      <td>10.11</td>\n",
       "      <td>5</td>\n",
       "    </tr>\n",
       "    <tr>\n",
       "      <th>175</th>\n",
       "      <td>29.4</td>\n",
       "      <td>0.06664</td>\n",
       "      <td>4.05</td>\n",
       "      <td>33.1</td>\n",
       "      <td>3.1323</td>\n",
       "      <td>5.33</td>\n",
       "      <td>5</td>\n",
       "    </tr>\n",
       "    <tr>\n",
       "      <th>174</th>\n",
       "      <td>22.6</td>\n",
       "      <td>0.08447</td>\n",
       "      <td>4.05</td>\n",
       "      <td>68.7</td>\n",
       "      <td>2.7019</td>\n",
       "      <td>9.64</td>\n",
       "      <td>5</td>\n",
       "    </tr>\n",
       "  </tbody>\n",
       "</table>\n",
       "</div>"
      ],
      "text/plain": [
       "     CMEDV     CRIM  INDUS   AGE     DIS  LSTAT  RAD\n",
       "178   29.9  0.06642   4.05  74.4  2.9153   6.92    5\n",
       "177   24.6  0.05425   4.05  73.4  3.3175   6.29    5\n",
       "176   23.2  0.07022   4.05  47.2  3.5549  10.11    5\n",
       "175   29.4  0.06664   4.05  33.1  3.1323   5.33    5\n",
       "174   22.6  0.08447   4.05  68.7  2.7019   9.64    5"
      ]
     },
     "execution_count": 178,
     "metadata": {},
     "output_type": "execute_result"
    }
   ],
   "source": [
    "X.head()"
   ]
  },
  {
   "cell_type": "code",
   "execution_count": 179,
   "id": "younger-radar",
   "metadata": {},
   "outputs": [
    {
     "data": {
      "text/html": [
       "<div>\n",
       "<style scoped>\n",
       "    .dataframe tbody tr th:only-of-type {\n",
       "        vertical-align: middle;\n",
       "    }\n",
       "\n",
       "    .dataframe tbody tr th {\n",
       "        vertical-align: top;\n",
       "    }\n",
       "\n",
       "    .dataframe thead th {\n",
       "        text-align: right;\n",
       "    }\n",
       "</style>\n",
       "<table border=\"1\" class=\"dataframe\">\n",
       "  <thead>\n",
       "    <tr style=\"text-align: right;\">\n",
       "      <th></th>\n",
       "      <th>NOX</th>\n",
       "    </tr>\n",
       "  </thead>\n",
       "  <tbody>\n",
       "    <tr>\n",
       "      <th>178</th>\n",
       "      <td>0.51</td>\n",
       "    </tr>\n",
       "    <tr>\n",
       "      <th>177</th>\n",
       "      <td>0.51</td>\n",
       "    </tr>\n",
       "    <tr>\n",
       "      <th>176</th>\n",
       "      <td>0.51</td>\n",
       "    </tr>\n",
       "    <tr>\n",
       "      <th>175</th>\n",
       "      <td>0.51</td>\n",
       "    </tr>\n",
       "    <tr>\n",
       "      <th>174</th>\n",
       "      <td>0.51</td>\n",
       "    </tr>\n",
       "  </tbody>\n",
       "</table>\n",
       "</div>"
      ],
      "text/plain": [
       "      NOX\n",
       "178  0.51\n",
       "177  0.51\n",
       "176  0.51\n",
       "175  0.51\n",
       "174  0.51"
      ]
     },
     "execution_count": 179,
     "metadata": {},
     "output_type": "execute_result"
    }
   ],
   "source": [
    "y.head()"
   ]
  },
  {
   "cell_type": "code",
   "execution_count": 180,
   "id": "sapphire-veteran",
   "metadata": {},
   "outputs": [],
   "source": [
    "def plotting(x, activation = None, normalization = None, **kwargs):\n",
    "    x_cols = x.columns\n",
    "    x = np.asarray(x)\n",
    "\n",
    "    if activation:\n",
    "        x = activation(x, **kwargs)\n",
    "        activation = activation.__name__.upper()\n",
    "    else:\n",
    "        activation = 'NONE'\n",
    "        \n",
    "        \n",
    "    if normalization:\n",
    "        x = normalization().fit_transform(x)\n",
    "        normalization = normalization.__name__.upper()\n",
    "    else:\n",
    "        normalization = 'NONE'\n",
    "        \n",
    "        \n",
    "    fig, ax = plt.subplots(nrows = 1, ncols = 2, figsize = (16,8))\n",
    "    fig.suptitle(('The distribution of the data with {} normalization for an activation'\n",
    "                  ' function of {}'.format(normalization ,activation)), fontsize=16)\n",
    "    \n",
    "    for i in range(x.shape[1]):\n",
    "        ax[0].hist(x[:,i], alpha = 0.2)\n",
    "    ax[0].legend(x_cols)   \n",
    "    ax[1] = sns.boxplot(data = x)\n",
    "    plt.xticks(rotation=15)\n",
    "    plt.show()\n",
    "    print(kurtosis(x))\n",
    "    print(skew(x))\n",
    "    return x"
   ]
  },
  {
   "cell_type": "code",
   "execution_count": 181,
   "id": "cardiovascular-insurance",
   "metadata": {},
   "outputs": [
    {
     "data": {
      "image/png": "[encoded data removed]",
      "text/plain": [
       "<Figure size 1152x576 with 2 Axes>"
      ]
     },
     "metadata": {
      "needs_background": "light"
     },
     "output_type": "display_data"
    },
    {
     "name": "stdout",
     "output_type": "stream",
     "text": [
      "[ 0.80780774 -1.01158216 -0.29536749  2.90733209 -0.98832465 -0.43905903\n",
      " -0.63565534]\n",
      "[-0.33423126  0.40473014 -0.64121763 -1.67068359  0.152277   -0.31928227\n",
      "  0.28576674]\n"
     ]
    },
    {
     "data": {
      "text/html": [
       "<div>\n",
       "<style scoped>\n",
       "    .dataframe tbody tr th:only-of-type {\n",
       "        vertical-align: middle;\n",
       "    }\n",
       "\n",
       "    .dataframe tbody tr th {\n",
       "        vertical-align: top;\n",
       "    }\n",
       "\n",
       "    .dataframe thead th {\n",
       "        text-align: right;\n",
       "    }\n",
       "</style>\n",
       "<table border=\"1\" class=\"dataframe\">\n",
       "  <thead>\n",
       "    <tr style=\"text-align: right;\">\n",
       "      <th></th>\n",
       "      <th>CMEDV</th>\n",
       "      <th>CRIM</th>\n",
       "      <th>INDUS</th>\n",
       "      <th>AGE</th>\n",
       "      <th>DIS</th>\n",
       "      <th>LSTAT</th>\n",
       "      <th>RAD</th>\n",
       "    </tr>\n",
       "  </thead>\n",
       "  <tbody>\n",
       "    <tr>\n",
       "      <th>0</th>\n",
       "      <td>0.895004</td>\n",
       "      <td>-0.355313</td>\n",
       "      <td>-0.698361</td>\n",
       "      <td>-0.055394</td>\n",
       "      <td>-0.105598</td>\n",
       "      <td>-0.555800</td>\n",
       "      <td>0.0</td>\n",
       "    </tr>\n",
       "    <tr>\n",
       "      <th>1</th>\n",
       "      <td>0.387160</td>\n",
       "      <td>-0.408539</td>\n",
       "      <td>-0.698361</td>\n",
       "      <td>-0.073758</td>\n",
       "      <td>0.037306</td>\n",
       "      <td>-0.662832</td>\n",
       "      <td>0.0</td>\n",
       "    </tr>\n",
       "    <tr>\n",
       "      <th>2</th>\n",
       "      <td>0.234649</td>\n",
       "      <td>-0.340682</td>\n",
       "      <td>-0.698361</td>\n",
       "      <td>-0.672951</td>\n",
       "      <td>0.113729</td>\n",
       "      <td>-0.130710</td>\n",
       "      <td>0.0</td>\n",
       "    </tr>\n",
       "    <tr>\n",
       "      <th>3</th>\n",
       "      <td>0.851111</td>\n",
       "      <td>-0.354444</td>\n",
       "      <td>-0.698361</td>\n",
       "      <td>-1.154526</td>\n",
       "      <td>-0.026212</td>\n",
       "      <td>-0.848528</td>\n",
       "      <td>0.0</td>\n",
       "    </tr>\n",
       "    <tr>\n",
       "      <th>4</th>\n",
       "      <td>0.166448</td>\n",
       "      <td>-0.292094</td>\n",
       "      <td>-0.698361</td>\n",
       "      <td>-0.163563</td>\n",
       "      <td>-0.189653</td>\n",
       "      <td>-0.184088</td>\n",
       "      <td>0.0</td>\n",
       "    </tr>\n",
       "  </tbody>\n",
       "</table>\n",
       "</div>"
      ],
      "text/plain": [
       "      CMEDV      CRIM     INDUS       AGE       DIS     LSTAT  RAD\n",
       "0  0.895004 -0.355313 -0.698361 -0.055394 -0.105598 -0.555800  0.0\n",
       "1  0.387160 -0.408539 -0.698361 -0.073758  0.037306 -0.662832  0.0\n",
       "2  0.234649 -0.340682 -0.698361 -0.672951  0.113729 -0.130710  0.0\n",
       "3  0.851111 -0.354444 -0.698361 -1.154526 -0.026212 -0.848528  0.0\n",
       "4  0.166448 -0.292094 -0.698361 -0.163563 -0.189653 -0.184088  0.0"
      ]
     },
     "execution_count": 181,
     "metadata": {},
     "output_type": "execute_result"
    }
   ],
   "source": [
    "\n",
    "def root(x, power, inverse = False):\n",
    "    return x ** power if not inverse else x ** 1/power\n",
    "\n",
    "\n",
    "def log(x, inverse = False):\n",
    "    return np.log(x) if not inverse else np.exp(x)\n",
    "\n",
    "X = plotting(X, activation = log , normalization = RobustScaler)\n",
    "X = pd.DataFrame(data = X)\n",
    "X.columns = X_cols\n",
    "X.head()"
   ]
  },
  {
   "cell_type": "code",
   "execution_count": 182,
   "id": "exceptional-religious",
   "metadata": {},
   "outputs": [
    {
     "data": {
      "image/png": "[encoded data removed]",
      "text/plain": [
       "<Figure size 1152x576 with 2 Axes>"
      ]
     },
     "metadata": {
      "needs_background": "light"
     },
     "output_type": "display_data"
    },
    {
     "name": "stdout",
     "output_type": "stream",
     "text": [
      "[-0.73255331]\n",
      "[0.35671812]\n"
     ]
    },
    {
     "data": {
      "text/html": [
       "<div>\n",
       "<style scoped>\n",
       "    .dataframe tbody tr th:only-of-type {\n",
       "        vertical-align: middle;\n",
       "    }\n",
       "\n",
       "    .dataframe tbody tr th {\n",
       "        vertical-align: top;\n",
       "    }\n",
       "\n",
       "    .dataframe thead th {\n",
       "        text-align: right;\n",
       "    }\n",
       "</style>\n",
       "<table border=\"1\" class=\"dataframe\">\n",
       "  <thead>\n",
       "    <tr style=\"text-align: right;\">\n",
       "      <th></th>\n",
       "      <th>NOX</th>\n",
       "    </tr>\n",
       "  </thead>\n",
       "  <tbody>\n",
       "    <tr>\n",
       "      <th>0</th>\n",
       "      <td>0.3444</td>\n",
       "    </tr>\n",
       "    <tr>\n",
       "      <th>1</th>\n",
       "      <td>0.3444</td>\n",
       "    </tr>\n",
       "    <tr>\n",
       "      <th>2</th>\n",
       "      <td>0.3444</td>\n",
       "    </tr>\n",
       "    <tr>\n",
       "      <th>3</th>\n",
       "      <td>0.3444</td>\n",
       "    </tr>\n",
       "    <tr>\n",
       "      <th>4</th>\n",
       "      <td>0.3444</td>\n",
       "    </tr>\n",
       "  </tbody>\n",
       "</table>\n",
       "</div>"
      ],
      "text/plain": [
       "      NOX\n",
       "0  0.3444\n",
       "1  0.3444\n",
       "2  0.3444\n",
       "3  0.3444\n",
       "4  0.3444"
      ]
     },
     "execution_count": 182,
     "metadata": {},
     "output_type": "execute_result"
    }
   ],
   "source": [
    "y = plotting(y, activation = log , normalization = MinMaxScaler)\n",
    "y = pd.DataFrame(data = y)\n",
    "y.columns = y_col\n",
    "y.head()"
   ]
  },
  {
   "cell_type": "code",
   "execution_count": 183,
   "id": "overhead-insert",
   "metadata": {},
   "outputs": [],
   "source": [
    "from sklearn.linear_model import LinearRegression, Ridge, Lasso\n",
    "from sklearn.model_selection import train_test_split\n",
    "from sklearn.svm import SVR\n",
    "from sklearn.metrics import r2_score\n",
    "\n",
    "\n",
    "\n",
    "X_train, X_test, y_train, y_test = train_test_split(X, y, test_size = 0.2, random_state = 2)"
   ]
  },
  {
   "cell_type": "code",
   "execution_count": 210,
   "id": "moved-milwaukee",
   "metadata": {},
   "outputs": [
    {
     "name": "stderr",
     "output_type": "stream",
     "text": [
      "/Users/yousefnami/opt/anaconda3/envs/ai_hack_2021/lib/python3.8/site-packages/sklearn/utils/validation.py:63: DataConversionWarning: A column-vector y was passed when a 1d array was expected. Please change the shape of y to (n_samples, ), for example using ravel().\n",
      "  return f(*args, **kwargs)\n"
     ]
    },
    {
     "data": {
      "image/png": "[encoded data removed]",
      "text/plain": [
       "<Figure size 432x288 with 1 Axes>"
      ]
     },
     "metadata": {
      "needs_background": "light"
     },
     "output_type": "display_data"
    }
   ],
   "source": [
    "model = SVR(kernel = 'rbf', C = 1)\n",
    "model.fit(X_train, y_train)\n",
    "y_hat = model.predict(X_test)\n",
    "plt.plot(X_test['AGE'],y_hat, '.')\n",
    "plt.plot(X_test['AGE'],y_test, '.')\n",
    "\n",
    "r2_score(y_test, y_hat)\n",
    "#stats.probplot([y_t[0] - y_h for y_t,y_h in zip(y_test, y_hat)], plot = plt)\n",
    "import pickle\n",
    "pickle.dump(model, open('SVR.pkl', 'wb'))"
   ]
  },
  {
   "cell_type": "code",
   "execution_count": 207,
   "id": "matched-effects",
   "metadata": {},
   "outputs": [
    {
     "data": {
      "image/png": "[encoded data removed]",
      "text/plain": [
       "<Figure size 432x288 with 1 Axes>"
      ]
     },
     "metadata": {
      "needs_background": "light"
     },
     "output_type": "display_data"
    }
   ],
   "source": [
    "model = LinearRegression()\n",
    "model.fit(X_train, y_train)\n",
    "y_hat = model.predict(X_test)\n",
    "r2_score(y_test, y_hat)\n",
    "plt.plot(X_test['AGE'],y_hat, '.')\n",
    "plt.plot(X_test['AGE'],y_test, '.')\n",
    "\n",
    "from scipy import stats\n",
    "#stats.probplot([y_t[0] - y_h[0] for y_t,y_h in zip(y_test, y_hat)], plot = plt)"
   ]
  },
  {
   "cell_type": "code",
   "execution_count": 186,
   "id": "stunning-gateway",
   "metadata": {},
   "outputs": [],
   "source": [
    "from statsmodels.graphics.gofplots import qqplot"
   ]
  },
  {
   "cell_type": "code",
   "execution_count": 187,
   "id": "prime-arcade",
   "metadata": {
    "scrolled": true
   },
   "outputs": [],
   "source": [
    "y_test = np.asarray(y_test)\n",
    "SS_Residual = sum((y_test-y_hat)**2) \n",
    "\n",
    "SS_Total = sum((y_test-np.mean(y_test))**2)     \n",
    "r_squared = 1 - (float(SS_Residual))/SS_Total\n",
    "adjusted_r_squared = 1 - (1-r_squared)*(len(y_test)-1)/(len(y_test)-X_test.shape[1]-1)"
   ]
  },
  {
   "cell_type": "code",
   "execution_count": 188,
   "id": "historical-helena",
   "metadata": {},
   "outputs": [
    {
     "name": "stdout",
     "output_type": "stream",
     "text": [
      "[0.7794787]\n"
     ]
    }
   ],
   "source": [
    "print(adjusted_r_squared)"
   ]
  },
  {
   "cell_type": "code",
   "execution_count": 123,
   "id": "endangered-model",
   "metadata": {},
   "outputs": [
    {
     "ename": "NameError",
     "evalue": "name 'data' is not defined",
     "output_type": "error",
     "traceback": [
      "\u001b[0;31m---------------------------------------------------------------------------\u001b[0m",
      "\u001b[0;31mNameError\u001b[0m                                 Traceback (most recent call last)",
      "\u001b[0;32m<ipython-input-123-7fcfc9f3a6bf>\u001b[0m in \u001b[0;36m<module>\u001b[0;34m\u001b[0m\n\u001b[1;32m      2\u001b[0m \u001b[0mscipy\u001b[0m\u001b[0;34m.\u001b[0m\u001b[0mstats\u001b[0m\u001b[0;34m.\u001b[0m\u001b[0mnorm\u001b[0m\u001b[0;34m.\u001b[0m\u001b[0mpdf\u001b[0m\u001b[0;34m(\u001b[0m\u001b[0;36m6\u001b[0m\u001b[0;34m,\u001b[0m\u001b[0;36m2.0\u001b[0m\u001b[0;34m,\u001b[0m\u001b[0;36m1.0\u001b[0m\u001b[0;34m)\u001b[0m\u001b[0;34m\u001b[0m\u001b[0;34m\u001b[0m\u001b[0m\n\u001b[1;32m      3\u001b[0m \u001b[0;34m\u001b[0m\u001b[0m\n\u001b[0;32m----> 4\u001b[0;31m \u001b[0mprint\u001b[0m\u001b[0;34m(\u001b[0m \u001b[0mnp\u001b[0m\u001b[0;34m.\u001b[0m\u001b[0mlog\u001b[0m\u001b[0;34m(\u001b[0m\u001b[0mscipy\u001b[0m\u001b[0;34m.\u001b[0m\u001b[0mstats\u001b[0m\u001b[0;34m.\u001b[0m\u001b[0mnorm\u001b[0m\u001b[0;34m.\u001b[0m\u001b[0mpdf\u001b[0m\u001b[0;34m(\u001b[0m\u001b[0mdata\u001b[0m\u001b[0;34m,\u001b[0m\u001b[0;36m2.0\u001b[0m\u001b[0;34m,\u001b[0m\u001b[0;36m1.0\u001b[0m\u001b[0;34m)\u001b[0m\u001b[0;34m)\u001b[0m\u001b[0;34m.\u001b[0m\u001b[0msum\u001b[0m\u001b[0;34m(\u001b[0m\u001b[0;34m)\u001b[0m \u001b[0;34m)\u001b[0m\u001b[0;34m\u001b[0m\u001b[0;34m\u001b[0m\u001b[0m\n\u001b[0m\u001b[1;32m      5\u001b[0m \u001b[0;34m\u001b[0m\u001b[0m\n\u001b[1;32m      6\u001b[0m \u001b[0mx\u001b[0m \u001b[0;34m=\u001b[0m \u001b[0mnp\u001b[0m\u001b[0;34m.\u001b[0m\u001b[0mlinspace\u001b[0m\u001b[0;34m(\u001b[0m\u001b[0;34m-\u001b[0m\u001b[0;36m10\u001b[0m\u001b[0;34m,\u001b[0m \u001b[0;36m10\u001b[0m\u001b[0;34m,\u001b[0m \u001b[0;36m1000\u001b[0m\u001b[0;34m,\u001b[0m \u001b[0mendpoint\u001b[0m\u001b[0;34m=\u001b[0m\u001b[0;32mTrue\u001b[0m\u001b[0;34m)\u001b[0m\u001b[0;34m\u001b[0m\u001b[0;34m\u001b[0m\u001b[0m\n",
      "\u001b[0;31mNameError\u001b[0m: name 'data' is not defined"
     ]
    }
   ],
   "source": [
    "import scipy\n",
    "\n",
    "    \n",
    "scipy.stats.norm.pdf(6,2.0,1.0)\n",
    "\n",
    "print( np.log(scipy.stats.norm.pdf(data,2.0,1.0)).sum() )\n",
    "\n",
    "x = np.linspace(-10, 10, 1000, endpoint=True)\n",
    "\n",
    "y = []\n",
    "for i in x:\n",
    "    y.append(np.log(scipy.stats.norm.pdf(data,i,0.5)).sum())\n",
    "\n",
    "plt.plot(x,y)\n",
    "\n",
    "plt.title(r'Log-Likelihood')\n",
    "plt.xlabel(r'$\\mu$')\n",
    "\n",
    "plt.grid()\n",
    "\n",
    "plt.savefig(\"likelihood_normal_distribution_02.png\", bbox_inches='tight')\n",
    "#plt.show()"
   ]
  },
  {
   "cell_type": "code",
   "execution_count": 125,
   "id": "piano-resolution",
   "metadata": {},
   "outputs": [
    {
     "data": {
      "text/plain": [
       "array([[ 2.23595779, -0.00546796, -0.33663176],\n",
       "       [-0.57210619, -0.63439954, -0.33783818],\n",
       "       [ 0.13699804,  0.54546788,  1.10103333]])"
      ]
     },
     "execution_count": 125,
     "metadata": {},
     "output_type": "execute_result"
    }
   ],
   "source": [
    "np.random.normal(size = (3,3))"
   ]
  },
  {
   "cell_type": "code",
   "execution_count": 131,
   "id": "better-prime",
   "metadata": {},
   "outputs": [
    {
     "data": {
      "text/plain": [
       "array([3.98942280e-01, 3.52065327e-01, 2.41970725e-01, 1.29517596e-01,\n",
       "       5.39909665e-02, 1.75283005e-02, 4.43184841e-03, 8.72682695e-04,\n",
       "       1.33830226e-04, 1.59837411e-05])"
      ]
     },
     "execution_count": 131,
     "metadata": {},
     "output_type": "execute_result"
    }
   ],
   "source": [
    "x = np.linspace(0, 5, 10, endpoint=False)\n",
    "scipy.stats.multivariate_normal.pdf(x)"
   ]
  },
  {
   "cell_type": "code",
   "execution_count": 208,
   "id": "south-accounting",
   "metadata": {},
   "outputs": [],
   "source": [
    "from sklearn.utils import resample\n",
    "boot_strapped = resample()"
   ]
  },
  {
   "cell_type": "code",
   "execution_count": null,
   "id": "cross-avatar",
   "metadata": {},
   "outputs": [],
   "source": []
  }
 ],
 "metadata": {
  "kernelspec": {
   "display_name": "ai_hack_2021",
   "language": "python",
   "name": "ai_hack_2021"
  },
  "language_info": {
   "codemirror_mode": {
    "name": "ipython",
    "version": 3
   },
   "file_extension": ".py",
   "mimetype": "text/x-python",
   "name": "python",
   "nbconvert_exporter": "python",
   "pygments_lexer": "ipython3",
   "version": "3.8.5"
  }
 },
 "nbformat": 4,
 "nbformat_minor": 5
}
